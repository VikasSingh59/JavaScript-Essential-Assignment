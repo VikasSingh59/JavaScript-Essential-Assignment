{
  "nbformat": 4,
  "nbformat_minor": 0,
  "metadata": {
    "colab": {
      "name": "day 2 assignment.ipynb",
      "provenance": [],
      "authorship_tag": "ABX9TyMUf74z8dtE/BclSf5V3Ljj",
      "include_colab_link": true
    },
    "kernelspec": {
      "name": "python3",
      "display_name": "Python 3"
    },
    "language_info": {
      "name": "python"
    }
  },
  "cells": [
    {
      "cell_type": "markdown",
      "metadata": {
        "id": "view-in-github",
        "colab_type": "text"
      },
      "source": [
        "<a href=\"https://colab.research.google.com/github/VikasSingh59/JavaScript-Essential-Assignment/blob/main/day_2_assignment.ipynb\" target=\"_parent\"><img src=\"https://colab.research.google.com/assets/colab-badge.svg\" alt=\"Open In Colab\"/></a>"
      ]
    },
    {
      "cell_type": "code",
      "metadata": {
        "id": "-Z9mjKwNHHnG"
      },
      "source": [
        "\n",
        "import numpy as np\n",
        "import matplotlib.pyplot as plt\n",
        "import pandas as pd\n",
        "import seaborn as sns\n",
        "%matplotlib inline\n",
        "from numpy.random import randn,randint,uniform,sample"
      ],
      "execution_count": 1,
      "outputs": []
    },
    {
      "cell_type": "code",
      "metadata": {
        "colab": {
          "base_uri": "https://localhost:8080/",
          "height": 359
        },
        "id": "Jrwb-FuBHS0r",
        "outputId": "83c359b8-9260-4fec-9bcd-552cd8ad22b8"
      },
      "source": [
        "df=pd.DataFrame(randn(10,4),columns=['a','b','c','d'])\n",
        "df"
      ],
      "execution_count": 2,
      "outputs": [
        {
          "output_type": "execute_result",
          "data": {
            "text/html": [
              "<div>\n",
              "<style scoped>\n",
              "    .dataframe tbody tr th:only-of-type {\n",
              "        vertical-align: middle;\n",
              "    }\n",
              "\n",
              "    .dataframe tbody tr th {\n",
              "        vertical-align: top;\n",
              "    }\n",
              "\n",
              "    .dataframe thead th {\n",
              "        text-align: right;\n",
              "    }\n",
              "</style>\n",
              "<table border=\"1\" class=\"dataframe\">\n",
              "  <thead>\n",
              "    <tr style=\"text-align: right;\">\n",
              "      <th></th>\n",
              "      <th>a</th>\n",
              "      <th>b</th>\n",
              "      <th>c</th>\n",
              "      <th>d</th>\n",
              "    </tr>\n",
              "  </thead>\n",
              "  <tbody>\n",
              "    <tr>\n",
              "      <th>0</th>\n",
              "      <td>-0.233386</td>\n",
              "      <td>0.640624</td>\n",
              "      <td>0.747046</td>\n",
              "      <td>-0.970329</td>\n",
              "    </tr>\n",
              "    <tr>\n",
              "      <th>1</th>\n",
              "      <td>0.403342</td>\n",
              "      <td>-1.660521</td>\n",
              "      <td>2.014637</td>\n",
              "      <td>1.032908</td>\n",
              "    </tr>\n",
              "    <tr>\n",
              "      <th>2</th>\n",
              "      <td>1.197013</td>\n",
              "      <td>0.631471</td>\n",
              "      <td>0.273203</td>\n",
              "      <td>-0.892754</td>\n",
              "    </tr>\n",
              "    <tr>\n",
              "      <th>3</th>\n",
              "      <td>-0.813934</td>\n",
              "      <td>-0.416188</td>\n",
              "      <td>-1.826901</td>\n",
              "      <td>0.425590</td>\n",
              "    </tr>\n",
              "    <tr>\n",
              "      <th>4</th>\n",
              "      <td>1.098045</td>\n",
              "      <td>0.804067</td>\n",
              "      <td>0.771094</td>\n",
              "      <td>-1.625637</td>\n",
              "    </tr>\n",
              "    <tr>\n",
              "      <th>5</th>\n",
              "      <td>0.364048</td>\n",
              "      <td>-0.558918</td>\n",
              "      <td>-1.653197</td>\n",
              "      <td>-0.206309</td>\n",
              "    </tr>\n",
              "    <tr>\n",
              "      <th>6</th>\n",
              "      <td>1.405180</td>\n",
              "      <td>0.401819</td>\n",
              "      <td>0.812640</td>\n",
              "      <td>-0.002813</td>\n",
              "    </tr>\n",
              "    <tr>\n",
              "      <th>7</th>\n",
              "      <td>-0.835921</td>\n",
              "      <td>-0.808170</td>\n",
              "      <td>-0.431556</td>\n",
              "      <td>-0.944219</td>\n",
              "    </tr>\n",
              "    <tr>\n",
              "      <th>8</th>\n",
              "      <td>0.537330</td>\n",
              "      <td>0.222435</td>\n",
              "      <td>0.693150</td>\n",
              "      <td>-1.114513</td>\n",
              "    </tr>\n",
              "    <tr>\n",
              "      <th>9</th>\n",
              "      <td>1.822556</td>\n",
              "      <td>0.447946</td>\n",
              "      <td>-1.744963</td>\n",
              "      <td>-0.208302</td>\n",
              "    </tr>\n",
              "  </tbody>\n",
              "</table>\n",
              "</div>"
            ],
            "text/plain": [
              "          a         b         c         d\n",
              "0 -0.233386  0.640624  0.747046 -0.970329\n",
              "1  0.403342 -1.660521  2.014637  1.032908\n",
              "2  1.197013  0.631471  0.273203 -0.892754\n",
              "3 -0.813934 -0.416188 -1.826901  0.425590\n",
              "4  1.098045  0.804067  0.771094 -1.625637\n",
              "5  0.364048 -0.558918 -1.653197 -0.206309\n",
              "6  1.405180  0.401819  0.812640 -0.002813\n",
              "7 -0.835921 -0.808170 -0.431556 -0.944219\n",
              "8  0.537330  0.222435  0.693150 -1.114513\n",
              "9  1.822556  0.447946 -1.744963 -0.208302"
            ]
          },
          "metadata": {
            "tags": []
          },
          "execution_count": 2
        }
      ]
    },
    {
      "cell_type": "code",
      "metadata": {
        "colab": {
          "base_uri": "https://localhost:8080/",
          "height": 278
        },
        "id": "S98C7aB0HVTv",
        "outputId": "8fe23dea-c7e2-40bf-dad8-a5a27474f46f"
      },
      "source": [
        "df.plot.bar()\n",
        "plt.title(\"Bar Graph\")\n",
        "plt.show()"
      ],
      "execution_count": 3,
      "outputs": [
        {
          "output_type": "display_data",
          "data": {
            "image/png": "[encoded data removed]",
            "text/plain": [
              "<Figure size 432x288 with 1 Axes>"
            ]
          },
          "metadata": {
            "tags": [],
            "needs_background": "light"
          }
        }
      ]
    },
    {
      "cell_type": "code",
      "metadata": {
        "id": "nI3tLMd0HYKN"
      },
      "source": [
        ""
      ],
      "execution_count": null,
      "outputs": []
    }
  ]
}